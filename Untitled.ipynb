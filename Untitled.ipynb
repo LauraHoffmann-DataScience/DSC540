{
 "cells": [
  {
   "cell_type": "code",
   "execution_count": 1,
   "metadata": {},
   "outputs": [],
   "source": [
    "import pandas as pd\n",
    "import sqlite3\n",
    "from sqlalchemy import create_engine"
   ]
  },
  {
   "cell_type": "code",
   "execution_count": 2,
   "metadata": {},
   "outputs": [],
   "source": [
    "csvdata = pd.read_csv(\"CSV_Data.csv\")\n",
    "webdata = pd.read_csv(\"WEB_Data.csv\")\n",
    "apidata = pd.read_csv(\"API_Data.csv\")\n",
    "csvdata = csvdata.drop(['Unnamed: 0'], axis=1)\n",
    "webdata = webdata.drop(['Unnamed: 0'], axis=1)\n",
    "apidata = apidata.drop(['Unnamed: 0'], axis=1)"
   ]
  },
  {
   "cell_type": "code",
   "execution_count": 3,
   "metadata": {},
   "outputs": [],
   "source": [
    "engine = create_engine('sqlite://', echo=False)"
   ]
  },
  {
   "cell_type": "code",
   "execution_count": 4,
   "metadata": {},
   "outputs": [
    {
     "data": {
      "text/plain": [
       "[(0, 'California', 'Los Angeles ', 10105722, 4979641, 5126081, 4891169, 2678016, 798352, 20211, 1445118, 1717972, 788246),\n",
       " (1, 'Illinois', 'Cook ', 5238541, 2540704, 2697837, 1314873, 2236857, 1225818, 5238, 361459, 832928, 455753),\n",
       " (2, 'Texas', 'Harris ', 4525519, 2251060, 2274459, 1909769, 1384808, 837221, 9051, 307735, 760287, 289633),\n",
       " (3, 'Arizona', 'Maricopa ', 4155501, 2055464, 2100037, 1271583, 2339547, 211930, 62332, 162064, 652413, 249330),\n",
       " (4, 'California', 'San Diego ', 3283665, 1651147, 1632518, 1096744, 1517053, 154332, 13134, 377621, 436727, 233140),\n",
       " (5, 'California', 'Orange ', 3155816, 1558245, 1597571, 1079289, 1306507, 50493, 6311, 615384, 381853, 183037),\n",
       " (6, 'Florida', 'Miami-Dade ', 2702602, 1311997, 1390605, 1824256, 370256, 440524, 2702, 40539, 513494, 199992),\n",
       " (7, 'New York', 'Kings ', 2635121, 1247773, 1387348, 508578, 948643, 806347, 2635, 310944, 577091, 213444),\n",
       " (8, 'Texas', 'Dallas ', 2552213, 1257751, 1294462, 1010676, 770768, 564039, 5104, 153132, 451741, 150580),\n",
       " (9, 'California', 'Riverside ', 2355002, 1171711, 1183291, 1130400, 861930, 141300, 9420, 143655, 367380, 233145)]"
      ]
     },
     "execution_count": 4,
     "metadata": {},
     "output_type": "execute_result"
    }
   ],
   "source": [
    "csvdata.to_sql('csvdata', con=engine, if_exists='replace')\n",
    "engine.execute(\"SELECT * FROM csvdata\").fetchall()[:10]"
   ]
  },
  {
   "cell_type": "code",
   "execution_count": 5,
   "metadata": {},
   "outputs": [
    {
     "data": {
      "text/plain": [
       "[(0, 1, 'California', 'Los Angeles', 10039107, 4057.88, 2474.0),\n",
       " (1, 2, 'Illinois', 'Cook', 5150233, 945.33, 5448.0),\n",
       " (2, 3, 'Texas', 'Harris', 4713325, 1703.48, 2767.0),\n",
       " (3, 4, 'Arizona', 'Maricopa', 4485514, 9200.14, 488.0),\n",
       " (4, 5, 'California', 'San Diego', 3338330, 4206.63, 794.0),\n",
       " (5, 6, 'California', 'Orange', 3175692, 790.57, 4017.0),\n",
       " (6, 7, 'Florida', 'Miami-Dade', 2716940, 1897.72, 1432.0),\n",
       " (7, 8, 'Texas', 'Dallas', 2635516, 871.28, 3025.0),\n",
       " (8, 9, 'New York', 'Kings', 2559903, 70.82, 36147.0),\n",
       " (9, 10, 'California', 'Riverside', 2470546, 7206.48, 343.0)]"
      ]
     },
     "execution_count": 5,
     "metadata": {},
     "output_type": "execute_result"
    }
   ],
   "source": [
    "webdata.to_sql('webdata', con=engine, if_exists='append')\n",
    "engine.execute(\"SELECT * FROM webdata\").fetchall()[:10]"
   ]
  },
  {
   "cell_type": "code",
   "execution_count": 6,
   "metadata": {},
   "outputs": [
    {
     "data": {
      "text/plain": [
       "[(0, '02/24/2021 03:00:00', 'Alabama', 'Autauga ', 6172.0, 85.0),\n",
       " (1, '02/24/2021 03:00:00', 'Alabama', 'Baldwin ', 19635.0, 272.0),\n",
       " (2, '02/24/2021 03:00:00', 'Alabama', 'Barbour ', 2095.0, 50.0),\n",
       " (3, '02/24/2021 03:00:00', 'Alabama', 'Bibb ', 2437.0, 59.0),\n",
       " (4, '02/24/2021 03:00:00', 'Alabama', 'Blount ', 6072.0, 125.0),\n",
       " (5, '02/24/2021 03:00:00', 'Alabama', 'Bullock ', 1165.0, 34.0),\n",
       " (6, '02/24/2021 03:00:00', 'Alabama', 'Butler ', 1951.0, 65.0),\n",
       " (7, '02/24/2021 03:00:00', 'Alabama', 'Calhoun ', 13090.0, 283.0),\n",
       " (8, '02/24/2021 03:00:00', 'Alabama', 'Chambers ', 3393.0, 103.0),\n",
       " (9, '02/24/2021 03:00:00', 'Alabama', 'Cherokee ', 1763.0, 38.0)]"
      ]
     },
     "execution_count": 6,
     "metadata": {},
     "output_type": "execute_result"
    }
   ],
   "source": [
    "apidata.to_sql('apidata', con=engine, if_exists='replace')\n",
    "engine.execute(\"SELECT * FROM apidata\").fetchall()[:10]"
   ]
  },
  {
   "cell_type": "code",
   "execution_count": 7,
   "metadata": {},
   "outputs": [],
   "source": [
    "# with sqlite3.connect(\"joineddata\") as conn:\n",
    "#     cursor = conn.cursor()\n",
    "#     cursor.execute(\"\"\"\n",
    "#     SELECT \n",
    "#         webdata.Population,\n",
    "#         webdata.Square_Miles,\n",
    "#         webdata.Density,\n",
    "#         apidata.Date,\n",
    "#         apidata.Confirmed,\n",
    "#         apidata.Deaths\n",
    "#     FROM csvdata\n",
    "#     LEFT JOIN webdata\n",
    "#     ON csvdata.County = webdata.County\n",
    "#     LEFT JOIN apidata\n",
    "#     ON csvdata.County = apidata.County\n",
    "# \"\"\"\n",
    "# )"
   ]
  }
 ],
 "metadata": {
  "kernelspec": {
   "display_name": "Python 3",
   "language": "python",
   "name": "python3"
  },
  "language_info": {
   "codemirror_mode": {
    "name": "ipython",
    "version": 3
   },
   "file_extension": ".py",
   "mimetype": "text/x-python",
   "name": "python",
   "nbconvert_exporter": "python",
   "pygments_lexer": "ipython3",
   "version": "3.8.3"
  }
 },
 "nbformat": 4,
 "nbformat_minor": 4
}
